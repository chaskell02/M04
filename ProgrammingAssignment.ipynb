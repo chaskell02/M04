{
 "cells": [
  {
   "cell_type": "code",
   "execution_count": null,
   "id": "fbd1fe21",
   "metadata": {},
   "outputs": [],
   "source": [
    "\n",
    "def hours():\n",
    "    print('Open 9-5 daily')\n",
    "\n",
    "    \n",
    "    \n",
    "    \n",
    "    \n",
    ">>> import zoo\n",
    ">>> zoo.hours()\n",
    "Open 9-5 daily\n",
    "\n",
    ">>> import zoo as menagerie\n",
    ">>> menagerie.hours()\n",
    "Open 9-5 daily\n",
    "\n",
    "\n",
    "\n",
    "\n",
    "\n",
    "\n",
    "\n",
    "from sqlalchemy import create_engine, select, Table, MetaData\n",
    "\n",
    "# Connect to the SQLite3 database\n",
    "engine = create_engine('sqlite:///books.db', echo=True)\n",
    "connection = engine.connect()\n",
    "\n",
    "# Reflect the existing database into a MetaData object\n",
    "metadata = MetaData()\n",
    "books_table = Table('books', metadata, autoload_with=engine)\n",
    "\n",
    "# Define a select query to get titles in alphabetical order\n",
    "select_query = select([books_table.columns.title]).order_by(books_table.columns.title)\n",
    "\n",
    "# Execute the query and fetch the results\n",
    "result = connection.execute(select_query).fetchall()\n",
    "\n",
    "# Print the titles\n",
    "for row in result:\n",
    "    print(row[0])\n",
    "\n",
    "# Close the database connection\n",
    "connection.close()\n"
   ]
  }
 ],
 "metadata": {
  "kernelspec": {
   "display_name": "Python 3 (ipykernel)",
   "language": "python",
   "name": "python3"
  },
  "language_info": {
   "codemirror_mode": {
    "name": "ipython",
    "version": 3
   },
   "file_extension": ".py",
   "mimetype": "text/x-python",
   "name": "python",
   "nbconvert_exporter": "python",
   "pygments_lexer": "ipython3",
   "version": "3.11.5"
  }
 },
 "nbformat": 4,
 "nbformat_minor": 5
}
